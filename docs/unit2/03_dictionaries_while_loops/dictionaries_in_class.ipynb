{
  "nbformat": 4,
  "nbformat_minor": 0,
  "metadata": {
    "colab": {
      "provenance": [],
      "collapsed_sections": [
        "EMlhQSZoZjxi",
        "QO1PgUuda4VD"
      ],
      "include_colab_link": true
    },
    "kernelspec": {
      "name": "python3",
      "display_name": "Python 3"
    },
    "language_info": {
      "name": "python"
    }
  },
  "cells": [
    {
      "cell_type": "markdown",
      "metadata": {
        "id": "view-in-github",
        "colab_type": "text"
      },
      "source": [
        "<a href=\"https://colab.research.google.com/github/farnssam/Spoon-Knife/blob/main/docs/unit2/03_dictionaries_while_loops/dictionaries_in_class.ipynb\" target=\"_parent\"><img src=\"https://colab.research.google.com/assets/colab-badge.svg\" alt=\"Open In Colab\"/></a>"
      ]
    },
    {
      "cell_type": "markdown",
      "source": [
        "# **Common Dictionary Methods**\n",
        "\n",
        "*   .pop() - removes the item with the specified key\n",
        "*   .update() - addes or changes dictionary items\n",
        "*   .clear() - removes all items from dictionary\n",
        "*   .get() - returns value of specified key\n",
        "*   .popitem() - returns the last inserted key and value pair as a tuple and removes it from the dictionary\n",
        "*   .copy() - returns a copy of the dictionary"
      ],
      "metadata": {
        "id": "NNVHCU_VcMyj"
      }
    },
    {
      "cell_type": "code",
      "source": [
        "# this is an example of a dictionary, notice the key:value pairs\n",
        "# to access a value in the dictionary, place the key inside square brackets following the name of the dictionary\n",
        "\n",
        "mydict = {\n",
        "    'Eggs':2.59,\n",
        "    'Milk':3.19,\n",
        "    'Cheese':4.80,\n",
        "    'Yogurt':[1.35,3.50],\n",
        "    'Butter':2.59,\n",
        "}\n"
      ],
      "metadata": {
        "id": "Qrhwu5yTdpQe"
      },
      "execution_count": 1,
      "outputs": []
    },
    {
      "cell_type": "markdown",
      "source": [
        "Access the value associated with cheese using the dictionary and print it out."
      ],
      "metadata": {
        "id": "RHRUMxQ91QAQ"
      }
    },
    {
      "cell_type": "code",
      "source": [
        "mydict['Cheese']\n",
        "print(mydict['Cheese'])\n"
      ],
      "metadata": {
        "id": "iI0D0aRFPRNP",
        "outputId": "dc31ad1e-2d6f-4bce-da90-8c2c74aa1f87",
        "colab": {
          "base_uri": "https://localhost:8080/"
        }
      },
      "execution_count": 7,
      "outputs": [
        {
          "output_type": "stream",
          "name": "stdout",
          "text": [
            "4.8\n"
          ]
        }
      ]
    },
    {
      "cell_type": "markdown",
      "source": [
        "Do the same thing using get() with the key inside of the parentheses and print it out."
      ],
      "metadata": {
        "id": "P_b_q6N81Th8"
      }
    },
    {
      "cell_type": "code",
      "source": [
        "value = mydict.get('Cheese')\n",
        "print(value)\n"
      ],
      "metadata": {
        "id": "YVr4WhbCPRJz",
        "outputId": "38d0a57f-0740-4186-95f5-141775025282",
        "colab": {
          "base_uri": "https://localhost:8080/"
        }
      },
      "execution_count": 9,
      "outputs": [
        {
          "output_type": "stream",
          "name": "stdout",
          "text": [
            "4.8\n"
          ]
        }
      ]
    },
    {
      "cell_type": "markdown",
      "source": [
        "Access the second value in the list associated with yogurt and print it out."
      ],
      "metadata": {
        "id": "sumsgcde1Uby"
      }
    },
    {
      "cell_type": "code",
      "source": [
        "mydict['Yogurt'][1]\n"
      ],
      "metadata": {
        "id": "qf70YtPrPQ59",
        "outputId": "3eacabb6-be4b-4897-c996-7ee63b3b25c8",
        "colab": {
          "base_uri": "https://localhost:8080/"
        }
      },
      "execution_count": 10,
      "outputs": [
        {
          "output_type": "execute_result",
          "data": {
            "text/plain": [
              "3.5"
            ]
          },
          "metadata": {},
          "execution_count": 10
        }
      ]
    },
    {
      "cell_type": "markdown",
      "source": [
        "Change the value associated with butter to something else and print the dictionary."
      ],
      "metadata": {
        "id": "mmedmue91VLj"
      }
    },
    {
      "cell_type": "code",
      "source": [
        "\n"
      ],
      "metadata": {
        "id": "3eonavJcPRDa"
      },
      "execution_count": null,
      "outputs": []
    },
    {
      "cell_type": "markdown",
      "source": [
        "Add a food and its associated price directly to the dictionary and print the dictionary."
      ],
      "metadata": {
        "id": "ns0NuwKY1VrM"
      }
    },
    {
      "cell_type": "code",
      "source": [
        "\n"
      ],
      "metadata": {
        "id": "tvE2hx8zPYKw"
      },
      "execution_count": null,
      "outputs": []
    },
    {
      "cell_type": "markdown",
      "source": [
        "### Create your own dictionary here!"
      ],
      "metadata": {
        "id": "a-Uhth3D1WDq"
      }
    },
    {
      "cell_type": "code",
      "source": [
        "\n"
      ],
      "metadata": {
        "id": "8UGPpzHcfmx2"
      },
      "execution_count": null,
      "outputs": []
    },
    {
      "cell_type": "markdown",
      "source": [
        "Add something to your dictionary and print it out."
      ],
      "metadata": {
        "id": "hn0n9sBs1Wj8"
      }
    },
    {
      "cell_type": "code",
      "source": [
        "\n"
      ],
      "metadata": {
        "id": "0nMasMf9hDUw"
      },
      "execution_count": null,
      "outputs": []
    },
    {
      "cell_type": "markdown",
      "source": [
        "Remove something from your dictionary and print it out."
      ],
      "metadata": {
        "id": "f_YH1rkm1W5r"
      }
    },
    {
      "cell_type": "code",
      "source": [
        "\n"
      ],
      "metadata": {
        "id": "CHhysMOFhV9-"
      },
      "execution_count": null,
      "outputs": []
    },
    {
      "cell_type": "markdown",
      "source": [
        "#**Looping Through Dictionaries**\n",
        "\n",
        "*   .items() - returns a list of key-value pairs\n",
        "*   .keys() - returns a list of keys\n",
        "*   .values() - returns a list of values\n",
        "\n",
        "Because dictionaries can contain large amounts of data, it is sometimes useful to loop through them."
      ],
      "metadata": {
        "id": "cJNMY34JYfSH"
      }
    },
    {
      "cell_type": "code",
      "source": [
        "material_costs = {\n",
        "    \"Concrete\": 150,    # Cost per cubic yard\n",
        "    \"Steel\": 700,       # Cost per ton\n",
        "    \"Brick\": 0.50,      # Cost per brick\n",
        "    \"Drywall\": 12,      # Cost per sheet\n",
        "    \"Asphalt\": 100,     # Cost per ton\n",
        "    \"Glass\": 25,        # Cost per square foot\n",
        "    \"Insulation\": 0.80, # Cost per square foot\n",
        "    \"Rebar\": 500        # Cost per ton\n",
        "}\n"
      ],
      "metadata": {
        "id": "dCnbiNPSYh3E"
      },
      "execution_count": 11,
      "outputs": []
    },
    {
      "cell_type": "markdown",
      "source": [
        "Add an input statement that asks what the user would like to buy, and let the user know if it is in the dictionary or not (use an if statement)"
      ],
      "metadata": {
        "id": "8fj9S8BPcGnn"
      }
    },
    {
      "cell_type": "code",
      "source": [],
      "metadata": {
        "id": "RtNBpZLvfsog"
      },
      "execution_count": 20,
      "outputs": []
    },
    {
      "cell_type": "markdown",
      "source": [
        "Add a while loop to keep asking until 'quit'"
      ],
      "metadata": {
        "id": "ZVcj-24ihSY6"
      }
    },
    {
      "cell_type": "code",
      "source": [],
      "metadata": {
        "id": "co-mc3HJhQ8Y"
      },
      "execution_count": 20,
      "outputs": []
    },
    {
      "cell_type": "markdown",
      "source": [
        "You can loop through a list of the keys and values by using .items()<br>\n",
        "Loop through the dictionary above and print out how much each material costs."
      ],
      "metadata": {
        "id": "DfoVQm_t1Y1v"
      }
    },
    {
      "cell_type": "code",
      "source": [],
      "metadata": {
        "id": "D4uDE-8qntZN"
      },
      "execution_count": null,
      "outputs": []
    },
    {
      "cell_type": "markdown",
      "source": [
        "Repeat the steps above, but this time omit the costs of brick and glass using if statements."
      ],
      "metadata": {
        "id": "Rk4ss0sR1ZYf"
      }
    },
    {
      "cell_type": "code",
      "source": [
        "\n"
      ],
      "metadata": {
        "id": "MlvfrZ9kW4b5"
      },
      "execution_count": null,
      "outputs": []
    },
    {
      "cell_type": "markdown",
      "source": [
        "You can loop through just the keys by using .keys()"
      ],
      "metadata": {
        "id": "tIXwldEf1aGE"
      }
    },
    {
      "cell_type": "code",
      "source": [
        "\n"
      ],
      "metadata": {
        "id": "Qx3OlXmYnz06"
      },
      "execution_count": null,
      "outputs": []
    },
    {
      "cell_type": "markdown",
      "source": [
        "You can loop through just the values by using .values()"
      ],
      "metadata": {
        "id": "xBdLO36h1Zy6"
      }
    },
    {
      "cell_type": "code",
      "source": [
        "\n"
      ],
      "metadata": {
        "id": "rvhACazOn6GE"
      },
      "execution_count": null,
      "outputs": []
    },
    {
      "cell_type": "markdown",
      "source": [
        "You can loop through the keys and access  the values by square brackets with the key."
      ],
      "metadata": {
        "id": "sjvSEV131bGe"
      }
    },
    {
      "cell_type": "code",
      "source": [
        "\n"
      ],
      "metadata": {
        "id": "DA7YE3hooPAS"
      },
      "execution_count": null,
      "outputs": []
    },
    {
      "cell_type": "markdown",
      "source": [
        "### Here's a fun example of something you can do with a dictionary!"
      ],
      "metadata": {
        "id": "D8ZpIq_21bdx"
      }
    },
    {
      "cell_type": "code",
      "source": [
        "def convert(inputSentence):\n",
        "  myList = inputSentence.lower().split(\" \")\n",
        "  return myList\n",
        "\n",
        "redneckTranslator = {\n",
        "  'with': 'wif',\n",
        "  'hear':'hyar',\n",
        "  'from': 'frum',\n",
        "  'are': 'is',\n",
        "  'saw': 'seen',\n",
        "  'get': 'git',\n",
        "  'wanting': 'hankerin',\n",
        "  'think': 'reckon',\n",
        "  'planning': \"fixin'\",\n",
        "  'people': 'folks',\n",
        "  'call': 'holler',\n",
        "  'something': 'sumpin',\n",
        "  'never': \"ain't never\",\n",
        "  'naked': 'nekkid',\n",
        "  'wash': 'warsh',\n",
        "  'beautiful': 'purty',\n",
        "  'am not': \"ain't\",\n",
        "  'are not': \"ain't\",\n",
        "  \"isn't\": \"ain't\",\n",
        "  \"aren't\": \"ain't\",\n",
        "  'is not': \"ain't\",\n",
        "  'is no': \"ain't no\",\n",
        "  'rude': 'ignert',\n",
        "  'were': 'was',\n",
        "  'you': 'ya',\n",
        "  'theater': 'show',\n",
        "  'time': 'spell',\n",
        "  'negotiate': 'dicker',\n",
        "  'contract': 'deal',\n",
        "  'woman': 'gal',\n",
        "  'man': 'feller',\n",
        "  'teenager': 'varmint',\n",
        "  'before': \"b'fo'\",\n",
        "  'minutes': 'a jiffy',\n",
        "  'ing': \"in'\",\n",
        "  'that': 'that there',\n",
        "  'for': 'fur',\n",
        "  'this': 'tis',\n",
        "  'am': 'is',\n",
        "  'to': \"t'\"\n",
        "}\n",
        "\n",
        "mySentence = input(\"Enter your sentence here:\")\n",
        "\n",
        "listSentence = convert(mySentence)\n",
        "\n",
        "newSentence = \"\"\n",
        "for origWord in listSentence:\n",
        "  if origWord in redneckTranslator.keys():\n",
        "    newWord = redneckTranslator[origWord]\n",
        "    newSentence += newWord + \" \"\n",
        "  else:\n",
        "    newSentence += origWord + \" \"\n",
        "\n",
        "print(newSentence)"
      ],
      "metadata": {
        "id": "w5ywjni5cTmw",
        "outputId": "7d3abb4e-e953-4e7a-87d7-268bee865099",
        "colab": {
          "base_uri": "https://localhost:8080/"
        }
      },
      "execution_count": 20,
      "outputs": [
        {
          "output_type": "stream",
          "name": "stdout",
          "text": [
            "Enter your sentence here: my favorite thing is your mom\n",
            " my favorite thing is your mom \n"
          ]
        }
      ]
    }
  ]
}